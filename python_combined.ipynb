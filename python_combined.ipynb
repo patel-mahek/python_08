{
  "nbformat": 4,
  "nbformat_minor": 0,
  "metadata": {
    "colab": {
      "provenance": [],
      "authorship_tag": "ABX9TyPYRzbsmeEFbapcyB+R1GzE",
      "include_colab_link": true
    },
    "kernelspec": {
      "name": "python3",
      "display_name": "Python 3"
    },
    "language_info": {
      "name": "python"
    }
  },
  "cells": [
    {
      "cell_type": "markdown",
      "metadata": {
        "id": "view-in-github",
        "colab_type": "text"
      },
      "source": [
        "<a href=\"https://colab.research.google.com/github/patel-mahek/python_08/blob/master/python_combined.ipynb\" target=\"_parent\"><img src=\"https://colab.research.google.com/assets/colab-badge.svg\" alt=\"Open In Colab\"/></a>"
      ]
    },
    {
      "cell_type": "markdown",
      "source": [
        "**Variables**"
      ],
      "metadata": {
        "id": "rY6Dd4me3E1Y"
      }
    },
    {
      "cell_type": "code",
      "execution_count": 1,
      "metadata": {
        "colab": {
          "base_uri": "https://localhost:8080/"
        },
        "id": "smmth5o42jsP",
        "outputId": "b812af98-a76c-443d-b9bd-a218f7f04cbe"
      },
      "outputs": [
        {
          "output_type": "stream",
          "name": "stdout",
          "text": [
            "1 2.5 mahek True\n",
            "3.5\n",
            "<class 'int'>\n",
            "<class 'str'> 1\n"
          ]
        }
      ],
      "source": [
        "# A variable is a container for a value, which can be of various types\n",
        "\n",
        "'''\n",
        "This is  a\n",
        "multiline comment\n",
        "or docstring (used to define  funxtions purpose)\n",
        "can be single or double quotes\n",
        "'''\n",
        "\"\"\"\n",
        "VARIABLE RULES\n",
        "-case sensitive\n",
        "start with letter or underscore\n",
        "dont start with number\n",
        "\"\"\"\n",
        "x =1            #int\n",
        "y = 2.5         #float\n",
        "name = 'mahek'  #string\n",
        "is_cool = True  #boolean\n",
        "\n",
        "# multiple assignment\n",
        "x, y, name, is_cool= (1,2.5,\"mahek\",True)\n",
        "\n",
        "print(x,y,name, is_cool)\n",
        "\n",
        "#basic math\n",
        "a = x+y\n",
        "print(a)\n",
        "\n",
        "#type\n",
        "print(type(x))\n",
        "\n",
        "#casting\n",
        "x = str(x)\n",
        "# int(x) / float(x)\n",
        "print(type(x),x)"
      ]
    },
    {
      "cell_type": "markdown",
      "source": [
        "**Strings**\n"
      ],
      "metadata": {
        "id": "n_Hpnm973Ak1"
      }
    },
    {
      "cell_type": "code",
      "source": [
        "# Strings in python are surrounded by either single or double quotation marks. Let's look at string formatting and some string methods\n",
        "\n",
        "name = 'mahek'\n",
        "age =18\n",
        "\n",
        "#concatenate\n",
        "\n",
        "print(\"hello my name is \" + name)\n",
        "print(\"hello my age is \"+str(age))\n",
        "\n",
        "# String Formatting\n",
        "\n",
        "#arguments by position\n",
        "print(\"hello my name is {name} and i am {age}\".format(name=name, age=age))\n",
        "# here {name} are called the place holders\n",
        "# naem here name= name\n",
        "# the first name denotes the placeholder and the second is the name of the variable\n",
        "\n",
        "# F-strings\n",
        "print(f\"hello my name is {name} and i am {age}\")\n",
        "# here we are directly using the variables\n",
        "\n",
        "# String Methods\n",
        "s= \"hello world\"\n",
        "\n",
        "print(s.capitalize())\n",
        "\n",
        "# Make all uppercase\n",
        "print(s.upper())\n",
        "\n",
        "# Make all lower\n",
        "print(s.lower())\n",
        "\n",
        "# Swap case\n",
        "print(s.swapcase())\n",
        "\n",
        "# Get length\n",
        "print(len(s))\n",
        "\n",
        "# Replace\n",
        "print(s.replace('world', 'everyone'))\n",
        "\n",
        "# Count\n",
        "sub = 'h'\n",
        "print(s.count(sub))\n",
        "\n",
        "# Starts with\n",
        "print(s.startswith('hello'))\n",
        "\n",
        "# Ends with\n",
        "print(s.endswith('d'))\n",
        "\n",
        "# Split into a list\n",
        "print(s.split())\n",
        "\n",
        "# Find position\n",
        "print(s.find('r'))\n",
        "\n",
        "# Is all alphanumeric\n",
        "print(s.isalnum())\n",
        "\n",
        "# Is all alphabetic\n",
        "print(s.isalpha())\n",
        "\n",
        "# Is all numeric\n",
        "print(s.isnumeric())\n",
        "\n"
      ],
      "metadata": {
        "colab": {
          "base_uri": "https://localhost:8080/"
        },
        "id": "SK3Y1Vpn3cM0",
        "outputId": "f66a5e70-a2f2-4411-8178-186798655170"
      },
      "execution_count": 2,
      "outputs": [
        {
          "output_type": "stream",
          "name": "stdout",
          "text": [
            "hello my name is mahek\n",
            "hello my age is 18\n",
            "hello my name is mahek and i am 18\n",
            "hello my name is mahek and i am 18\n",
            "Hello world\n",
            "HELLO WORLD\n",
            "hello world\n",
            "HELLO WORLD\n",
            "11\n",
            "hello everyone\n",
            "1\n",
            "True\n",
            "True\n",
            "['hello', 'world']\n",
            "8\n",
            "False\n",
            "False\n",
            "False\n"
          ]
        }
      ]
    },
    {
      "cell_type": "markdown",
      "source": [
        "**List**"
      ],
      "metadata": {
        "id": "fbr3aEGJ3sJu"
      }
    },
    {
      "cell_type": "code",
      "source": [
        "# A List is a collection which is ordered and changeable. Allows duplicate members.\n",
        "\n",
        "# create list\n",
        "numbers =[1,2,3,4,5,6,7,7]\n",
        "print(numbers)\n",
        "\n",
        "fruits = [\"apples\", \"orange\",\"grapes\",\"mangoes\"]\n",
        "\n",
        "# constructor used\n",
        "numbers2=list((1,2,3,4,5))\n",
        "print(numbers2)\n",
        "\n",
        "# get value\n",
        "print(fruits[1])\n",
        "\n",
        "# get length\n",
        "print(len(fruits))\n",
        "\n",
        "# add item\n",
        "fruits.append(\"kiwi\")\n",
        "print(fruits)\n",
        "\n",
        "# remove\n",
        "fruits.remove(\"grapes\")\n",
        "print(fruits)\n",
        "\n",
        "# insert\n",
        "fruits.insert(2,\"strawberries\")\n",
        "print(fruits)\n",
        "\n",
        "# pop\n",
        "fruits.pop(2)\n",
        "print(fruits)\n",
        "\n",
        "\n",
        "# reverse list\n",
        "fruits.reverse()\n",
        "print(fruits)\n",
        "\n",
        "# sort\n",
        "fruits.sort()\n",
        "print(fruits)\n",
        "\n",
        "# revserse sort\n",
        "fruits.sort(reverse=True)\n",
        "print(fruits)\n",
        "\n",
        "\n",
        "# change a value\n",
        "fruits[3]=\"mahek\"\n",
        "print(fruits)"
      ],
      "metadata": {
        "colab": {
          "base_uri": "https://localhost:8080/"
        },
        "id": "S6e9qbWO31B1",
        "outputId": "1cfdcd55-a694-45e1-cdb8-0e9349dcc634"
      },
      "execution_count": 3,
      "outputs": [
        {
          "output_type": "stream",
          "name": "stdout",
          "text": [
            "[1, 2, 3, 4, 5, 6, 7, 7]\n",
            "[1, 2, 3, 4, 5]\n",
            "orange\n",
            "4\n",
            "['apples', 'orange', 'grapes', 'mangoes', 'kiwi']\n",
            "['apples', 'orange', 'mangoes', 'kiwi']\n",
            "['apples', 'orange', 'strawberries', 'mangoes', 'kiwi']\n",
            "['apples', 'orange', 'mangoes', 'kiwi']\n",
            "['kiwi', 'mangoes', 'orange', 'apples']\n",
            "['apples', 'kiwi', 'mangoes', 'orange']\n",
            "['orange', 'mangoes', 'kiwi', 'apples']\n",
            "['orange', 'mangoes', 'kiwi', 'mahek']\n"
          ]
        }
      ]
    },
    {
      "cell_type": "markdown",
      "source": [
        "**Loops**"
      ],
      "metadata": {
        "id": "qI3tsFGr388K"
      }
    },
    {
      "cell_type": "code",
      "source": [
        "# A for loop is used for iterating over a sequence (that is either a list, a tuple, a dictionary, a set, or a string).\n",
        "\n",
        "people = ['mahek', 'zeel', 'riya', 'mansi']\n",
        "\n",
        "# Simple for loop\n",
        "for person in people:\n",
        "  print(f'Current Person: {person}')\n",
        "\n",
        "# Break\n",
        "for person in people:\n",
        "  if person == 'riya':\n",
        "    break\n",
        "  print(f'Current Person: {person}')\n",
        "\n",
        "# Continue\n",
        "for person in people:\n",
        "  if person == 'zeel':\n",
        "    continue\n",
        "  print(f'Current Person: {person}')\n",
        "\n",
        "# range\n",
        "for i in range(len(people)):\n",
        "  print(people[i])\n",
        "\n",
        "for i in range(0, 11):\n",
        "#    will just go till 10\n",
        "  print(f'Number: {i}')\n",
        "\n",
        "# While loops execute a set of statements as long as a condition is true.\n",
        "\n",
        "count = 0\n",
        "while count < 10:\n",
        "  print(f'Count: {count}')\n",
        "  count += 1"
      ],
      "metadata": {
        "colab": {
          "base_uri": "https://localhost:8080/"
        },
        "id": "6PUMnobm4DUe",
        "outputId": "3d2c9ca1-4f03-4e58-b8dc-5a2dfe92fca4"
      },
      "execution_count": 4,
      "outputs": [
        {
          "output_type": "stream",
          "name": "stdout",
          "text": [
            "Current Person: mahek\n",
            "Current Person: zeel\n",
            "Current Person: riya\n",
            "Current Person: mansi\n",
            "Current Person: mahek\n",
            "Current Person: zeel\n",
            "Current Person: mahek\n",
            "Current Person: riya\n",
            "Current Person: mansi\n",
            "mahek\n",
            "zeel\n",
            "riya\n",
            "mansi\n",
            "Number: 0\n",
            "Number: 1\n",
            "Number: 2\n",
            "Number: 3\n",
            "Number: 4\n",
            "Number: 5\n",
            "Number: 6\n",
            "Number: 7\n",
            "Number: 8\n",
            "Number: 9\n",
            "Number: 10\n",
            "Count: 0\n",
            "Count: 1\n",
            "Count: 2\n",
            "Count: 3\n",
            "Count: 4\n",
            "Count: 5\n",
            "Count: 6\n",
            "Count: 7\n",
            "Count: 8\n",
            "Count: 9\n"
          ]
        }
      ]
    },
    {
      "cell_type": "markdown",
      "source": [
        "**Functions**"
      ],
      "metadata": {
        "id": "yhUeYgNQ4FmK"
      }
    },
    {
      "cell_type": "code",
      "source": [
        "# A function is a block of code which only runs when it is called. In Python, we do not use parentheses and curly brackets, we use indentation with tabs or spaces\n",
        "\n",
        "\n",
        "# Create function\n",
        "def sayHello(name='mahek'):\n",
        "    print(f'Hello {name}')\n",
        "\n",
        "sayHello('riya')\n",
        "\n",
        "# Return values\n",
        "def getSum(num1, num2):\n",
        "    total = num1 + num2\n",
        "    return total\n",
        "\n",
        "print(getSum(9.10,10))\n",
        "\n",
        "# A lambda function is a small anonymous function.\n",
        "# A lambda function can take any number of arguments, but can only have one expression. Very similar to JS arrow functions\n",
        "\n",
        "getSum = lambda num1, num2: num1 + num2\n",
        "\n",
        "print(getSum(10, 3))"
      ],
      "metadata": {
        "colab": {
          "base_uri": "https://localhost:8080/"
        },
        "id": "BH6nS-Se4NE4",
        "outputId": "1c746044-a398-4661-f1e2-69b8415eada1"
      },
      "execution_count": 5,
      "outputs": [
        {
          "output_type": "stream",
          "name": "stdout",
          "text": [
            "Hello riya\n",
            "19.1\n",
            "13\n"
          ]
        }
      ]
    },
    {
      "cell_type": "markdown",
      "source": [
        "Tuples / sets"
      ],
      "metadata": {
        "id": "oT49DRTx4UJk"
      }
    },
    {
      "cell_type": "code",
      "source": [
        "# A Tuple is a collection which is ordered and unchangeable. Allows duplicate members.\n",
        "\n",
        "# create tuples\n",
        "fruits =('apple', 'oranges','bananas')\n",
        "fruits2=tuple(('apple', 'strawberries','orange'))\n",
        "print(fruits,fruits2)\n",
        "\n",
        "# wihtout a comma your tuple is justa  string\n",
        "\n",
        "# you cant chnage value in tuple\n",
        "\n",
        "# delte a tuple\n",
        "del fruits\n",
        "print(fruits)\n",
        "\n",
        "# A Set is a collection which is unordered and unindexed. No duplicate members.\n",
        "fruits_set={'apple', 'oranges','bananas'}\n",
        "\n",
        "# check if in set\n",
        "# returns true or false\n",
        "print('apple' in fruits_set)\n",
        "\n",
        "# add to a set\n",
        "fruits_set.add(\"hello\")\n",
        "\n",
        "# remove\n",
        "fruits_set.remove(\"hello\")\n",
        "\n",
        "# clear a set(not deleting it)\n",
        "fruits_set.clear()\n",
        "\n",
        "print(fruits_set)\n",
        "\n",
        "# add dublicate(it doesnt add the same value twice but remember its case sensitive)\n",
        "fruits_set.add('apple')\n",
        "print(fruits_set)"
      ],
      "metadata": {
        "id": "wRZ6DcoZ4Vmr"
      },
      "execution_count": null,
      "outputs": []
    },
    {
      "cell_type": "markdown",
      "source": [
        "**Dictionaries**"
      ],
      "metadata": {
        "id": "SZHpAgW74Zmm"
      }
    },
    {
      "cell_type": "code",
      "source": [
        "# A Dictionary is a collection which is unordered, changeable and indexed. No duplicate members.\n",
        "# Read more about dictionaries at https://docs.python.org/3/tutorial/datastructures.html#dictionaries\n",
        "\n",
        "# create\n",
        "person = {\n",
        "    'frist_born':'john',\n",
        "    'last_name':'Doe',\n",
        "    'age':18,\n",
        "}\n",
        "\n",
        "print(person,type(person))\n",
        "\n",
        "# use a constructor\n",
        "person2 = dict(first_name='Sara',last_name='Williams')\n",
        "print(person2,type(person2))\n",
        "\n",
        "# Get value\n",
        "print(person['first_name'])\n",
        "print(person.get('last_name'))\n",
        "\n",
        "\n",
        "# add key/value\n",
        "person['phone'] = '555-555-5555'\n",
        "\n",
        "# Get keys\n",
        "print(person.keys())\n",
        "\n",
        "# get items\n",
        "print(person.items())\n",
        "\n",
        "# Copy\n",
        "person2 = person.copy()\n",
        "person2['city'] = 'Boston'\n",
        "print(person2)\n",
        "\n",
        "# remove\n",
        "del(person['age'])\n",
        "person.pop('phone')\n",
        "print(person2)\n",
        "\n",
        "# Clear\n",
        "person.clear()\n",
        "print(person2)\n",
        "\n",
        "# Get length\n",
        "print(len(person2))\n",
        "\n",
        "# list of Dic\n",
        "people=[\n",
        "    {'name':'mahek','age':18},\n",
        "    {'name':'shraddha','age':40}\n",
        "]\n",
        "print(people[1]['name'])\n",
        "\n"
      ],
      "metadata": {
        "id": "OU7PVve34hiv"
      },
      "execution_count": null,
      "outputs": []
    },
    {
      "cell_type": "markdown",
      "source": [
        "**Conditions**"
      ],
      "metadata": {
        "id": "07c7DKpi4ila"
      }
    },
    {
      "cell_type": "code",
      "source": [
        "# If/ Else conditions are used to decide to do something based on something being true or false\n",
        "x = 105\n",
        "y = 105.9\n",
        "\n",
        "# Comparison Operators (==, !=, >, <, >=, <=) - Used to compare values\n",
        "\n",
        "# Simple if\n",
        "if x > y:\n",
        "  print(f'{x} is greater than {y}')\n",
        "\n",
        "# If/else\n",
        "if x > y:\n",
        "  print(f'{x} is greater than {y}')\n",
        "else:\n",
        "  print(f'{y} is greater than {x}')\n",
        "\n",
        "# elif\n",
        "if x > y:\n",
        "  print(f'{x} is greater than {y}')\n",
        "elif x == y:\n",
        "  print(f'{x} is equal to {y}')\n",
        "else:\n",
        "  print(f'{y} is greater than {x}')\n",
        "\n",
        "x = 6\n",
        "# Nested if\n",
        "if x > 2:\n",
        "  if x <= 10:\n",
        "    print(f'{x} is greater than 2 and less than or equal to 10')\n",
        "\n",
        "\n",
        "\n",
        "# Logical operators (and, or, not) - Used to combine conditional statements\n",
        "# and\n",
        "if x > 2 and x <= 10:\n",
        "    print(f'{x} is greater than 2 and less than or equal to 10')\n",
        "\n",
        "# or\n",
        "if x > 2 or x <= 10:\n",
        "    print(f'{x} is greater than 2 or less than or equal to 10')\n",
        "\n",
        "# not\n",
        "if not(x == y):\n",
        "  print(f'{x} is not equal to {y}')\n",
        "\n",
        "\n",
        "\n",
        "\n",
        "# Membership Operators (in, not in) - Membership operators are used to test if a sequence is presented in an object\n",
        "# its test to see if a given thing is in a list or not\n",
        "numbers = [1,2,3,4,5]\n",
        "\n",
        "#  in\n",
        "if x in numbers:\n",
        "  print(x in numbers)\n",
        "\n",
        "# not in\n",
        "if x not in numbers:\n",
        "  print(x not in numbers)\n",
        "\n",
        "\n",
        "\n",
        "# Identity Operators (is, is not) - Compare the objects, not if they are equal, but if they are actually the same object, with the same memory location:\n",
        "# is\n",
        "x=10\n",
        "y=10\n",
        "if x is y:\n",
        "  print(x is y)\n",
        "\n",
        "# is not\n",
        "if x is not y:\n",
        "  print(x is not y)\n"
      ],
      "metadata": {
        "id": "sFKJ9BtV4sNM"
      },
      "execution_count": null,
      "outputs": []
    },
    {
      "cell_type": "markdown",
      "source": [
        "**Classes**"
      ],
      "metadata": {
        "id": "PhZ_uFnp4v57"
      }
    },
    {
      "cell_type": "code",
      "source": [
        "# A class is like a blueprint for creating objects. An object has properties and methods(functions) associated with it. Almost everything in Python is an object\n",
        "\n",
        "# create class\n",
        "class User:\n",
        "    # constructor\n",
        "    def __init__(self,name,age,email):\n",
        "        self.email = email\n",
        "        self.name = name\n",
        "        self.age = age\n",
        "\n",
        "    # method\n",
        "    def greeting(self):\n",
        "        return f'My name is {self.name} and I am {self.age}'\n",
        "\n",
        "    def has_birthday(self):\n",
        "        self.age += 1\n",
        "\n",
        "# intialise a user object\n",
        "mahek = User('mahek patel',18,'mahekpatel@mail.com')\n",
        "\n",
        "print(mahek.greeting())\n",
        "mahek.has_birthday()\n",
        "print(mahek.greeting())\n",
        "\n",
        "# extend class\n",
        "class Customer(User):\n",
        "    # constructor\n",
        "    def __init__(self,name,age,email):\n",
        "        self.email = email\n",
        "        self.name = name\n",
        "        self.age = age\n",
        "        self.balance =0\n",
        "\n",
        "    def set_balance(self,balance):\n",
        "        self.balance = balance\n",
        "\n",
        "    def greeting(self):\n",
        "        return f'My name is {self.name} and I am {self.age} and i have balance of {self.balance}'\n",
        "\n",
        "# init customer object\n",
        "janet = Customer('janet',18,'janet@yahoo.com')\n",
        "janet.set_balance(500)\n",
        "print(janet.greeting())"
      ],
      "metadata": {
        "id": "YxdrTlPT43rH"
      },
      "execution_count": null,
      "outputs": []
    },
    {
      "cell_type": "markdown",
      "source": [
        "**Modules**"
      ],
      "metadata": {
        "id": "VBrbHl8z44tj"
      }
    },
    {
      "cell_type": "code",
      "source": [
        "# A module is basically a file containing a set of functions to include in your application. There are core python modules, modules you can install using the pip package manager (including Django) as well as custom modules\n",
        "\n",
        "# core python modules (we dont need to install it)\n",
        "import datetime\n",
        "today = datetime.date.today()\n",
        "print(today)\n",
        "\n",
        "# if we just want to import the date\n",
        "from datetime import date\n",
        "today = date.today()\n",
        "print(today)\n",
        "\n",
        "import time\n",
        "timestamp = time.time()\n",
        "print(timestamp)\n",
        "\n",
        "from time import time\n",
        "timestamp = time()\n",
        "print(timestamp)\n",
        "\n",
        "# pip module\n",
        "from camelcase import CamelCase\n",
        "\n",
        "c = CamelCase()\n",
        "print(c.hump(\"hello this is lowercase\"))\n",
        "\n",
        "# custom modules\n",
        "import validator\n",
        "from validator import validate_email\n",
        "\n",
        "email = 'test@test.com'\n",
        "\n",
        "if validate_email(email):\n",
        "    print(\"email is valid\")\n",
        "else:\n",
        "    print(\"email is not valid\")\n",
        "\n",
        "\n",
        "\n",
        "# Example of a custom module to be imported\n",
        "\n",
        "import re\n",
        "\n",
        "\n",
        "def validate_email(email):\n",
        "    if len(email) > 7:\n",
        "        return bool(re.match(\"^.+@(\\[?)[a-zA-Z0-9-.]+.([a-zA-Z]{2,3}|[0-9]{1,3})(]?)$\", email))\n",
        "\n"
      ],
      "metadata": {
        "id": "FeZIF-NT5GH-"
      },
      "execution_count": null,
      "outputs": []
    },
    {
      "cell_type": "markdown",
      "source": [
        " **Files**"
      ],
      "metadata": {
        "id": "BG2Lpzo35O2A"
      }
    },
    {
      "cell_type": "code",
      "source": [
        "# Python has functions for creating, reading, updating, and deleting files.\n",
        "\n",
        "# open a file / creates a file\n",
        "myFile = open('myfile.txt','w')\n",
        "# w is for writting\n",
        "\n",
        "# get some info\n",
        "print('Name: ',myFile.name)\n",
        "print('Is closed: ',myFile.closed)\n",
        "# here closed is not accroding to the system byt according to the script\n",
        "print('Opening Mode: ',myFile.mode)\n",
        "\n",
        "# write to file\n",
        "myFile.write('I love python')\n",
        "myFile.write(' and javascript')\n",
        "myFile.close()\n",
        "\n",
        "# append\n",
        "myFile = open('myfile.txt','a')\n",
        "# a is used to append\n",
        "# w is used to override it\n",
        "myFile.write(' I also like PHP')\n",
        "myFile.close()\n",
        "\n",
        "# read from a file\n",
        "myFile = open('myfile.txt', 'r+')\n",
        "text = myFile.read(100)\n",
        "# reads 100 characters\n",
        "print(text)\n"
      ],
      "metadata": {
        "id": "zscSBWIS5Ste"
      },
      "execution_count": null,
      "outputs": []
    },
    {
      "cell_type": "markdown",
      "source": [
        "**JSON**"
      ],
      "metadata": {
        "id": "7Fe-ofSY5kx6"
      }
    },
    {
      "cell_type": "code",
      "source": [
        "# JSON is commonly used with data APIS. Here how we can parse JSON into a Python dictionary\n",
        "import json\n",
        "\n",
        "# sample json\n",
        "userJSON = '{\"first_name\":\"mahek\" ,\"last_name\":\"patel\",\"age\":18}'\n",
        "\n",
        "# parse  to dictionary\n",
        "user = json.loads(userJSON)\n",
        "\n",
        "print(user)\n",
        "print(user['first_name'])\n",
        "\n",
        "car = {'make':'ford','model':'Mustang','year':1970}\n",
        "\n",
        "carJSON  = json.dumps(car)\n",
        "double quotes\n",
        "\n",
        "print(carJSON)\n",
        "\n"
      ],
      "metadata": {
        "id": "spZgQvm25m8T"
      },
      "execution_count": null,
      "outputs": []
    }
  ]
}