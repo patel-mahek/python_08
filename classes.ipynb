{
  "nbformat": 4,
  "nbformat_minor": 0,
  "metadata": {
    "colab": {
      "provenance": [],
      "authorship_tag": "ABX9TyPAjRc0HI66Y8X/LJFPv03n",
      "include_colab_link": true
    },
    "kernelspec": {
      "name": "python3",
      "display_name": "Python 3"
    },
    "language_info": {
      "name": "python"
    }
  },
  "cells": [
    {
      "cell_type": "markdown",
      "metadata": {
        "id": "view-in-github",
        "colab_type": "text"
      },
      "source": [
        "<a href=\"https://colab.research.google.com/github/patel-mahek/python_08/blob/master/classes.ipynb\" target=\"_parent\"><img src=\"https://colab.research.google.com/assets/colab-badge.svg\" alt=\"Open In Colab\"/></a>"
      ]
    },
    {
      "cell_type": "code",
      "execution_count": 1,
      "metadata": {
        "colab": {
          "base_uri": "https://localhost:8080/"
        },
        "id": "rSuNgUSsc4Z4",
        "outputId": "cdcdefc2-8b30-4dde-a6bf-1172218d2ccc"
      },
      "outputs": [
        {
          "output_type": "stream",
          "name": "stdout",
          "text": [
            "My name is mahek patel and I am 18\n",
            "My name is mahek patel and I am 19\n",
            "My name is janet and I am 18 and i have balance of 500\n"
          ]
        }
      ],
      "source": [
        "# A class is like a blueprint for creating objects. An object has properties and methods(functions) associated with it. Almost everything in Python is an object\n",
        "\n",
        "# create class\n",
        "class User:\n",
        "    # constructor\n",
        "    def __init__(self,name,age,email):\n",
        "        self.email = email\n",
        "        self.name = name\n",
        "        self.age = age\n",
        "\n",
        "    # method\n",
        "    def greeting(self):\n",
        "        return f'My name is {self.name} and I am {self.age}'\n",
        "\n",
        "    def has_birthday(self):\n",
        "        self.age += 1\n",
        "\n",
        "# intialise a user object\n",
        "mahek = User('mahek patel',18,'mahekpatel@mail.com')\n",
        "\n",
        "print(mahek.greeting())\n",
        "mahek.has_birthday()\n",
        "print(mahek.greeting())\n",
        "\n",
        "# extend class\n",
        "class Customer(User):\n",
        "    # constructor\n",
        "    def __init__(self,name,age,email):\n",
        "        self.email = email\n",
        "        self.name = name\n",
        "        self.age = age\n",
        "        self.balance =0\n",
        "\n",
        "    def set_balance(self,balance):\n",
        "        self.balance = balance\n",
        "\n",
        "    def greeting(self):\n",
        "        return f'My name is {self.name} and I am {self.age} and i have balance of {self.balance}'\n",
        "\n",
        "# init customer object\n",
        "janet = Customer('janet',18,'janet@yahoo.com')\n",
        "janet.set_balance(500)\n",
        "print(janet.greeting())"
      ]
    }
  ]
}